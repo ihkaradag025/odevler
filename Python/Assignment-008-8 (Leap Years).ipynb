{
 "cells": [
  {
   "cell_type": "code",
   "execution_count": 9,
   "metadata": {},
   "outputs": [
    {
     "name": "stdout",
     "output_type": "stream",
     "text": [
      "Lütfen Bir Yıl Giriniz: 1800\n",
      "GİRDİĞİNİZ 1800 YILI ARTIK YIL DEĞİLDİR.\n"
     ]
    }
   ],
   "source": [
    "def artik_yil(yil):\n",
    "    kontrol1 = yil % 4 == 0\n",
    "    kontrol2 = yil % 100 != 0  \n",
    "    kontrol3 = yil % 400 == 0\n",
    "    if kontrol1==True and kontrol2==False and kontrol3== True:\n",
    "        print(f\"GİRDİĞİNİZ {yil} YILI ARTIK YILDIR.\")\n",
    "    else:\n",
    "        print(f\"GİRDİĞİNİZ {yil} YILI ARTIK YIL DEĞİLDİR.\")\n",
    "    \n",
    "artik_yil(int(input(\"Lütfen Bir Yıl Giriniz: \")))"
   ]
  },
  {
   "cell_type": "code",
   "execution_count": null,
   "metadata": {},
   "outputs": [],
   "source": []
  },
  {
   "cell_type": "code",
   "execution_count": null,
   "metadata": {},
   "outputs": [],
   "source": []
  }
 ],
 "metadata": {
  "kernelspec": {
   "display_name": "Python 3",
   "language": "python",
   "name": "python3"
  },
  "language_info": {
   "codemirror_mode": {
    "name": "ipython",
    "version": 3
   },
   "file_extension": ".py",
   "mimetype": "text/x-python",
   "name": "python",
   "nbconvert_exporter": "python",
   "pygments_lexer": "ipython3",
   "version": "3.8.5"
  }
 },
 "nbformat": 4,
 "nbformat_minor": 4
}
