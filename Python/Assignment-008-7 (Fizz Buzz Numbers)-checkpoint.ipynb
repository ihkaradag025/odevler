{
 "cells": [
  {
   "cell_type": "markdown",
   "metadata": {},
   "source": [
    "## Assignment-008/7 (Fizz Buzz Numbers)"
   ]
  },
  {
   "cell_type": "code",
   "execution_count": null,
   "metadata": {},
   "outputs": [],
   "source": [
    "n=int(input('Bir Sayı Giriniz: '))\n",
    "list=[]    \n",
    "for i in range(1,n+1):\n",
    "    if i%3==0 and i%5==0:\n",
    "         list.append('FizzBuzz')\n",
    "    elif i%3==0:\n",
    "         list.append('Fizz')\n",
    "    elif i%5==0:\n",
    "        list.append('Buzz')\n",
    "    else:\n",
    "        list.append(i)\n",
    "print(list)"
   ]
  }
 ],
 "metadata": {
  "kernelspec": {
   "display_name": "Python 3",
   "language": "python",
   "name": "python3"
  },
  "language_info": {
   "codemirror_mode": {
    "name": "ipython",
    "version": 3
   },
   "file_extension": ".py",
   "mimetype": "text/x-python",
   "name": "python",
   "nbconvert_exporter": "python",
   "pygments_lexer": "ipython3",
   "version": "3.8.5"
  }
 },
 "nbformat": 4,
 "nbformat_minor": 4
}
