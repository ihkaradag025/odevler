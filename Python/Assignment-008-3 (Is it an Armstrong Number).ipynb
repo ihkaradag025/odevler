{
 "cells": [
  {
   "cell_type": "code",
   "execution_count": null,
   "metadata": {},
   "outputs": [],
   "source": [
    "while True:\n",
    "    number = input(\"lütfen pozitif bir sayı giriniz : \")\n",
    "    digits = len(number)\n",
    "    summ = 0\n",
    "    if not number.isdigit():\n",
    "        print(number, \"Lütfen doğru değer giriniz\")\n",
    "    elif int(number)>=0:\n",
    "        for i in range(digits):\n",
    "            summ = summ+int(number[i])**digits\n",
    "        if summ == int(number):\n",
    "            print(number,\"sayısı Armstrongdur\" )\n",
    "            break\n",
    "        else:\n",
    "            print(number,\"sayısı Armstrong değildir\" )\n",
    "            break"
   ]
  }
 ],
 "metadata": {
  "kernelspec": {
   "display_name": "Python 3",
   "language": "python",
   "name": "python3"
  },
  "language_info": {
   "codemirror_mode": {
    "name": "ipython",
    "version": 3
   },
   "file_extension": ".py",
   "mimetype": "text/x-python",
   "name": "python",
   "nbconvert_exporter": "python",
   "pygments_lexer": "ipython3",
   "version": "3.8.5"
  }
 },
 "nbformat": 4,
 "nbformat_minor": 4
}
