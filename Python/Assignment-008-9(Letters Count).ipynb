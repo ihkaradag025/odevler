{
 "cells": [
  {
   "cell_type": "code",
   "execution_count": 20,
   "metadata": {},
   "outputs": [
    {
     "name": "stdout",
     "output_type": "stream",
     "text": [
      "Bir Cümle Giriniz :hippo runs to us!\n",
      "{'h': 1, 'i': 1, 'p': 2, 'o': 2, ' ': 3, 'r': 1, 'u': 2, 'n': 1, 's': 2, 't': 1, '!': 1}\n"
     ]
    }
   ],
   "source": [
    "def say (c):\n",
    "    k=[]\n",
    "    v=[]\n",
    "    sayac=0 \n",
    "    cumle = list(c)\n",
    "    for b in cumle:\n",
    "        if not b in k:\n",
    "            sayac=cumle.count(b)\n",
    "            v.append(sayac)\n",
    "            k.append(b)        \n",
    "    sozluk=dict(zip(k,v))\n",
    "    print(sozluk)\n",
    "\n",
    "say(input(\"Bir Cümle Giriniz :\"))"
   ]
  },
  {
   "cell_type": "code",
   "execution_count": null,
   "metadata": {},
   "outputs": [],
   "source": []
  },
  {
   "cell_type": "code",
   "execution_count": null,
   "metadata": {},
   "outputs": [],
   "source": []
  },
  {
   "cell_type": "code",
   "execution_count": null,
   "metadata": {},
   "outputs": [],
   "source": []
  }
 ],
 "metadata": {
  "kernelspec": {
   "display_name": "Python 3",
   "language": "python",
   "name": "python3"
  }
 },
 "nbformat": 4,
 "nbformat_minor": 4
}
