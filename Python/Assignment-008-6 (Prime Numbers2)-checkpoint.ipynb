{
 "cells": [
  {
   "cell_type": "code",
   "execution_count": 6,
   "metadata": {},
   "outputs": [
    {
     "name": "stdout",
     "output_type": "stream",
     "text": [
      "Sayı 1: 1\n",
      "Sayı 2: 20\n",
      "1 ile 20 arasındaki asal sayılar:\n",
      "[2, 3, 5, 7, 11, 13, 17, 19]\n"
     ]
    }
   ],
   "source": [
    "sayi1 = int(input(\"Sayı 1: \") or \"1\")\n",
    "sayi2 = int(input(\"Sayı 2: \") or \"55\") \n",
    "liste=[] \n",
    "print(sayi1,\"ile\",sayi2,\"arasındaki asal sayılar:\")\n",
    "for sayi in range(sayi1,sayi2 + 1):\n",
    "   if sayi > 1:\n",
    "       for i in range(2,sayi):\n",
    "           if (sayi % i) == 0:\n",
    "               break\n",
    "       else:\n",
    "          liste.append(sayi)\n",
    "print(liste)"
   ]
  },
  {
   "cell_type": "code",
   "execution_count": null,
   "metadata": {},
   "outputs": [],
   "source": []
  },
  {
   "cell_type": "code",
   "execution_count": null,
   "metadata": {},
   "outputs": [],
   "source": []
  },
  {
   "cell_type": "code",
   "execution_count": null,
   "metadata": {},
   "outputs": [],
   "source": []
  },
  {
   "cell_type": "code",
   "execution_count": null,
   "metadata": {},
   "outputs": [],
   "source": []
  }
 ],
 "metadata": {
  "kernelspec": {
   "display_name": "Python 3",
   "language": "python",
   "name": "python3"
  },
  "language_info": {
   "codemirror_mode": {
    "name": "ipython",
    "version": 3
   },
   "file_extension": ".py",
   "mimetype": "text/x-python",
   "name": "python",
   "nbconvert_exporter": "python",
   "pygments_lexer": "ipython3",
   "version": "3.8.5"
  }
 },
 "nbformat": 4,
 "nbformat_minor": 4
}
