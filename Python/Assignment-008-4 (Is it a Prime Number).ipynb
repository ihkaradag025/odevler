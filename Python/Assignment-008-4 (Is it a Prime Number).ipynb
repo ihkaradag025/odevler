{
 "cells": [
  {
   "cell_type": "code",
   "execution_count": null,
   "metadata": {},
   "outputs": [],
   "source": [
    "n = int(input(\"lütfen bir sayı giriniz :\"))\n",
    "count = 0\n",
    "for i in range(1,n+1):\n",
    "    if not n % i:\n",
    "        count+=1\n",
    "if (n==0) or (n==1) or (count>=3):\n",
    "    print (n, \"sayısı asal değildir\")\n",
    "else:\n",
    "    print (n, \"sayısı asal sayıdır\")"
   ]
  }
 ],
 "metadata": {
  "kernelspec": {
   "display_name": "Python 3",
   "language": "python",
   "name": "python3"
  },
  "language_info": {
   "codemirror_mode": {
    "name": "ipython",
    "version": 3
   },
   "file_extension": ".py",
   "mimetype": "text/x-python",
   "name": "python",
   "nbconvert_exporter": "python",
   "pygments_lexer": "ipython3",
   "version": "3.8.5"
  }
 },
 "nbformat": 4,
 "nbformat_minor": 4
}
